{
 "cells": [
  {
   "cell_type": "markdown",
   "id": "13fc9689-fcd6-4cc7-8140-2e52cf6370b0",
   "metadata": {},
   "source": [
    "_____________________________________________________________________________\n",
    "# LSTM Time Series Forecasting Practice for REU Position\n",
    "_____________________________________________________________________________\n",
    "## Reference: \n",
    "- ### Video: LSTM Time Series Forecasting Tutorial in Python\n",
    "- ### Author: Greg Hogg\n",
    "- ### Link: https://www.youtube.com/watch?v=c0k-YLQGKjY\n"
   ]
  },
  {
   "cell_type": "markdown",
   "id": "adf568cf-6187-4c8e-bc18-c07c6ab1e4ff",
   "metadata": {},
   "source": [
    "_____________________________________________________________________________\n",
    "### Import nessecary libraries for preprocessing\n",
    "_____________________________________________________________________________"
   ]
  },
  {
   "cell_type": "code",
   "execution_count": 2,
   "id": "30048291-03b0-4f73-884a-5b1a92d7fdc6",
   "metadata": {},
   "outputs": [],
   "source": [
    "import tensorflow as tf # NN Library\n",
    "import os # For working with dataset\n",
    "import pandas as pd # Data management\n",
    "import numpy as np # Lin Alg\n",
    "\n",
    "# Ignore warnings from tensorflow. Although the warnings are informative, \n",
    "# they are irrelavant to this specific project, and no errors are present\n",
    "# used for the sake of brevity and readability \n",
    "import warnings\n",
    "warnings.filterwarnings(\"ignore\", category=UserWarning, module=\"tensorflow\")"
   ]
  },
  {
   "cell_type": "markdown",
   "id": "53af43ac-934e-4b13-bc9c-bf9e8fe640ce",
   "metadata": {},
   "source": [
    "_____________________________________________________________________________\n",
    "### Get climate change dataset from tf's datasets through tf utils\n",
    "_____________________________________________________________________________"
   ]
  },
  {
   "cell_type": "code",
   "execution_count": 2,
   "id": "f25c076c-994a-4069-a27d-7cc9c62484cc",
   "metadata": {},
   "outputs": [],
   "source": [
    "# Provide path to one of tf's datasets\n",
    "zip_path = tf.keras.utils.get_file(\n",
    "    origin='https://storage.googleapis.com/tensorflow/tf-keras-datasets/jena_climate_2009_2016.csv.zip',\n",
    "    fname='jena_climate_2009_2016.csv.zip',\n",
    "    extract=True)\n",
    "\n",
    "# Provide the CSV path, and get data\n",
    "csv_path, _ = os.path.splitext(zip_path)"
   ]
  },
  {
   "cell_type": "markdown",
   "id": "ba610888-0950-46fd-839b-91b744d32ae3",
   "metadata": {},
   "source": [
    "_____________________________________________________________________________\n",
    "### Brief Examination of data\n",
    "_____________________________________________________________________________"
   ]
  },
  {
   "cell_type": "code",
   "execution_count": 3,
   "id": "64eb8181-dadc-4054-9b79-d5e001815306",
   "metadata": {},
   "outputs": [
    {
     "data": {
      "text/html": [
       "<div>\n",
       "<style scoped>\n",
       "    .dataframe tbody tr th:only-of-type {\n",
       "        vertical-align: middle;\n",
       "    }\n",
       "\n",
       "    .dataframe tbody tr th {\n",
       "        vertical-align: top;\n",
       "    }\n",
       "\n",
       "    .dataframe thead th {\n",
       "        text-align: right;\n",
       "    }\n",
       "</style>\n",
       "<table border=\"1\" class=\"dataframe\">\n",
       "  <thead>\n",
       "    <tr style=\"text-align: right;\">\n",
       "      <th></th>\n",
       "      <th>Date Time</th>\n",
       "      <th>p (mbar)</th>\n",
       "      <th>T (degC)</th>\n",
       "      <th>Tpot (K)</th>\n",
       "      <th>Tdew (degC)</th>\n",
       "      <th>rh (%)</th>\n",
       "      <th>VPmax (mbar)</th>\n",
       "      <th>VPact (mbar)</th>\n",
       "      <th>VPdef (mbar)</th>\n",
       "      <th>sh (g/kg)</th>\n",
       "      <th>H2OC (mmol/mol)</th>\n",
       "      <th>rho (g/m**3)</th>\n",
       "      <th>wv (m/s)</th>\n",
       "      <th>max. wv (m/s)</th>\n",
       "      <th>wd (deg)</th>\n",
       "    </tr>\n",
       "  </thead>\n",
       "  <tbody>\n",
       "    <tr>\n",
       "      <th>0</th>\n",
       "      <td>01.01.2009 00:10:00</td>\n",
       "      <td>996.52</td>\n",
       "      <td>-8.02</td>\n",
       "      <td>265.40</td>\n",
       "      <td>-8.90</td>\n",
       "      <td>93.30</td>\n",
       "      <td>3.33</td>\n",
       "      <td>3.11</td>\n",
       "      <td>0.22</td>\n",
       "      <td>1.94</td>\n",
       "      <td>3.12</td>\n",
       "      <td>1307.75</td>\n",
       "      <td>1.03</td>\n",
       "      <td>1.75</td>\n",
       "      <td>152.3</td>\n",
       "    </tr>\n",
       "    <tr>\n",
       "      <th>1</th>\n",
       "      <td>01.01.2009 00:20:00</td>\n",
       "      <td>996.57</td>\n",
       "      <td>-8.41</td>\n",
       "      <td>265.01</td>\n",
       "      <td>-9.28</td>\n",
       "      <td>93.40</td>\n",
       "      <td>3.23</td>\n",
       "      <td>3.02</td>\n",
       "      <td>0.21</td>\n",
       "      <td>1.89</td>\n",
       "      <td>3.03</td>\n",
       "      <td>1309.80</td>\n",
       "      <td>0.72</td>\n",
       "      <td>1.50</td>\n",
       "      <td>136.1</td>\n",
       "    </tr>\n",
       "    <tr>\n",
       "      <th>2</th>\n",
       "      <td>01.01.2009 00:30:00</td>\n",
       "      <td>996.53</td>\n",
       "      <td>-8.51</td>\n",
       "      <td>264.91</td>\n",
       "      <td>-9.31</td>\n",
       "      <td>93.90</td>\n",
       "      <td>3.21</td>\n",
       "      <td>3.01</td>\n",
       "      <td>0.20</td>\n",
       "      <td>1.88</td>\n",
       "      <td>3.02</td>\n",
       "      <td>1310.24</td>\n",
       "      <td>0.19</td>\n",
       "      <td>0.63</td>\n",
       "      <td>171.6</td>\n",
       "    </tr>\n",
       "    <tr>\n",
       "      <th>3</th>\n",
       "      <td>01.01.2009 00:40:00</td>\n",
       "      <td>996.51</td>\n",
       "      <td>-8.31</td>\n",
       "      <td>265.12</td>\n",
       "      <td>-9.07</td>\n",
       "      <td>94.20</td>\n",
       "      <td>3.26</td>\n",
       "      <td>3.07</td>\n",
       "      <td>0.19</td>\n",
       "      <td>1.92</td>\n",
       "      <td>3.08</td>\n",
       "      <td>1309.19</td>\n",
       "      <td>0.34</td>\n",
       "      <td>0.50</td>\n",
       "      <td>198.0</td>\n",
       "    </tr>\n",
       "    <tr>\n",
       "      <th>4</th>\n",
       "      <td>01.01.2009 00:50:00</td>\n",
       "      <td>996.51</td>\n",
       "      <td>-8.27</td>\n",
       "      <td>265.15</td>\n",
       "      <td>-9.04</td>\n",
       "      <td>94.10</td>\n",
       "      <td>3.27</td>\n",
       "      <td>3.08</td>\n",
       "      <td>0.19</td>\n",
       "      <td>1.92</td>\n",
       "      <td>3.09</td>\n",
       "      <td>1309.00</td>\n",
       "      <td>0.32</td>\n",
       "      <td>0.63</td>\n",
       "      <td>214.3</td>\n",
       "    </tr>\n",
       "    <tr>\n",
       "      <th>...</th>\n",
       "      <td>...</td>\n",
       "      <td>...</td>\n",
       "      <td>...</td>\n",
       "      <td>...</td>\n",
       "      <td>...</td>\n",
       "      <td>...</td>\n",
       "      <td>...</td>\n",
       "      <td>...</td>\n",
       "      <td>...</td>\n",
       "      <td>...</td>\n",
       "      <td>...</td>\n",
       "      <td>...</td>\n",
       "      <td>...</td>\n",
       "      <td>...</td>\n",
       "      <td>...</td>\n",
       "    </tr>\n",
       "    <tr>\n",
       "      <th>420546</th>\n",
       "      <td>31.12.2016 23:20:00</td>\n",
       "      <td>1000.07</td>\n",
       "      <td>-4.05</td>\n",
       "      <td>269.10</td>\n",
       "      <td>-8.13</td>\n",
       "      <td>73.10</td>\n",
       "      <td>4.52</td>\n",
       "      <td>3.30</td>\n",
       "      <td>1.22</td>\n",
       "      <td>2.06</td>\n",
       "      <td>3.30</td>\n",
       "      <td>1292.98</td>\n",
       "      <td>0.67</td>\n",
       "      <td>1.52</td>\n",
       "      <td>240.0</td>\n",
       "    </tr>\n",
       "    <tr>\n",
       "      <th>420547</th>\n",
       "      <td>31.12.2016 23:30:00</td>\n",
       "      <td>999.93</td>\n",
       "      <td>-3.35</td>\n",
       "      <td>269.81</td>\n",
       "      <td>-8.06</td>\n",
       "      <td>69.71</td>\n",
       "      <td>4.77</td>\n",
       "      <td>3.32</td>\n",
       "      <td>1.44</td>\n",
       "      <td>2.07</td>\n",
       "      <td>3.32</td>\n",
       "      <td>1289.44</td>\n",
       "      <td>1.14</td>\n",
       "      <td>1.92</td>\n",
       "      <td>234.3</td>\n",
       "    </tr>\n",
       "    <tr>\n",
       "      <th>420548</th>\n",
       "      <td>31.12.2016 23:40:00</td>\n",
       "      <td>999.82</td>\n",
       "      <td>-3.16</td>\n",
       "      <td>270.01</td>\n",
       "      <td>-8.21</td>\n",
       "      <td>67.91</td>\n",
       "      <td>4.84</td>\n",
       "      <td>3.28</td>\n",
       "      <td>1.55</td>\n",
       "      <td>2.05</td>\n",
       "      <td>3.28</td>\n",
       "      <td>1288.39</td>\n",
       "      <td>1.08</td>\n",
       "      <td>2.00</td>\n",
       "      <td>215.2</td>\n",
       "    </tr>\n",
       "    <tr>\n",
       "      <th>420549</th>\n",
       "      <td>31.12.2016 23:50:00</td>\n",
       "      <td>999.81</td>\n",
       "      <td>-4.23</td>\n",
       "      <td>268.94</td>\n",
       "      <td>-8.53</td>\n",
       "      <td>71.80</td>\n",
       "      <td>4.46</td>\n",
       "      <td>3.20</td>\n",
       "      <td>1.26</td>\n",
       "      <td>1.99</td>\n",
       "      <td>3.20</td>\n",
       "      <td>1293.56</td>\n",
       "      <td>1.49</td>\n",
       "      <td>2.16</td>\n",
       "      <td>225.8</td>\n",
       "    </tr>\n",
       "    <tr>\n",
       "      <th>420550</th>\n",
       "      <td>01.01.2017 00:00:00</td>\n",
       "      <td>999.82</td>\n",
       "      <td>-4.82</td>\n",
       "      <td>268.36</td>\n",
       "      <td>-8.42</td>\n",
       "      <td>75.70</td>\n",
       "      <td>4.27</td>\n",
       "      <td>3.23</td>\n",
       "      <td>1.04</td>\n",
       "      <td>2.01</td>\n",
       "      <td>3.23</td>\n",
       "      <td>1296.38</td>\n",
       "      <td>1.23</td>\n",
       "      <td>1.96</td>\n",
       "      <td>184.9</td>\n",
       "    </tr>\n",
       "  </tbody>\n",
       "</table>\n",
       "<p>420551 rows × 15 columns</p>\n",
       "</div>"
      ],
      "text/plain": [
       "                  Date Time  p (mbar)  T (degC)  Tpot (K)  Tdew (degC)  \\\n",
       "0       01.01.2009 00:10:00    996.52     -8.02    265.40        -8.90   \n",
       "1       01.01.2009 00:20:00    996.57     -8.41    265.01        -9.28   \n",
       "2       01.01.2009 00:30:00    996.53     -8.51    264.91        -9.31   \n",
       "3       01.01.2009 00:40:00    996.51     -8.31    265.12        -9.07   \n",
       "4       01.01.2009 00:50:00    996.51     -8.27    265.15        -9.04   \n",
       "...                     ...       ...       ...       ...          ...   \n",
       "420546  31.12.2016 23:20:00   1000.07     -4.05    269.10        -8.13   \n",
       "420547  31.12.2016 23:30:00    999.93     -3.35    269.81        -8.06   \n",
       "420548  31.12.2016 23:40:00    999.82     -3.16    270.01        -8.21   \n",
       "420549  31.12.2016 23:50:00    999.81     -4.23    268.94        -8.53   \n",
       "420550  01.01.2017 00:00:00    999.82     -4.82    268.36        -8.42   \n",
       "\n",
       "        rh (%)  VPmax (mbar)  VPact (mbar)  VPdef (mbar)  sh (g/kg)  \\\n",
       "0        93.30          3.33          3.11          0.22       1.94   \n",
       "1        93.40          3.23          3.02          0.21       1.89   \n",
       "2        93.90          3.21          3.01          0.20       1.88   \n",
       "3        94.20          3.26          3.07          0.19       1.92   \n",
       "4        94.10          3.27          3.08          0.19       1.92   \n",
       "...        ...           ...           ...           ...        ...   \n",
       "420546   73.10          4.52          3.30          1.22       2.06   \n",
       "420547   69.71          4.77          3.32          1.44       2.07   \n",
       "420548   67.91          4.84          3.28          1.55       2.05   \n",
       "420549   71.80          4.46          3.20          1.26       1.99   \n",
       "420550   75.70          4.27          3.23          1.04       2.01   \n",
       "\n",
       "        H2OC (mmol/mol)  rho (g/m**3)  wv (m/s)  max. wv (m/s)  wd (deg)  \n",
       "0                  3.12       1307.75      1.03           1.75     152.3  \n",
       "1                  3.03       1309.80      0.72           1.50     136.1  \n",
       "2                  3.02       1310.24      0.19           0.63     171.6  \n",
       "3                  3.08       1309.19      0.34           0.50     198.0  \n",
       "4                  3.09       1309.00      0.32           0.63     214.3  \n",
       "...                 ...           ...       ...            ...       ...  \n",
       "420546             3.30       1292.98      0.67           1.52     240.0  \n",
       "420547             3.32       1289.44      1.14           1.92     234.3  \n",
       "420548             3.28       1288.39      1.08           2.00     215.2  \n",
       "420549             3.20       1293.56      1.49           2.16     225.8  \n",
       "420550             3.23       1296.38      1.23           1.96     184.9  \n",
       "\n",
       "[420551 rows x 15 columns]"
      ]
     },
     "execution_count": 3,
     "metadata": {},
     "output_type": "execute_result"
    }
   ],
   "source": [
    "# Save data to DataFrame\n",
    "df = pd.read_csv(csv_path)\n",
    "df"
   ]
  },
  {
   "cell_type": "markdown",
   "id": "fef5817b-4f82-4e6b-9502-c9d2000e5f55",
   "metadata": {},
   "source": [
    "_____________________________________________________________________________\n",
    "### Switch index to be a time series index using pandas timeseries method\n",
    "_____________________________________________________________________________"
   ]
  },
  {
   "cell_type": "code",
   "execution_count": 4,
   "id": "7346b9cd-1d25-4d90-a7dd-54bdcf6c705a",
   "metadata": {},
   "outputs": [
    {
     "data": {
      "text/html": [
       "<div>\n",
       "<style scoped>\n",
       "    .dataframe tbody tr th:only-of-type {\n",
       "        vertical-align: middle;\n",
       "    }\n",
       "\n",
       "    .dataframe tbody tr th {\n",
       "        vertical-align: top;\n",
       "    }\n",
       "\n",
       "    .dataframe thead th {\n",
       "        text-align: right;\n",
       "    }\n",
       "</style>\n",
       "<table border=\"1\" class=\"dataframe\">\n",
       "  <thead>\n",
       "    <tr style=\"text-align: right;\">\n",
       "      <th></th>\n",
       "      <th>Date Time</th>\n",
       "      <th>p (mbar)</th>\n",
       "      <th>T (degC)</th>\n",
       "      <th>Tpot (K)</th>\n",
       "      <th>Tdew (degC)</th>\n",
       "      <th>rh (%)</th>\n",
       "      <th>VPmax (mbar)</th>\n",
       "      <th>VPact (mbar)</th>\n",
       "      <th>VPdef (mbar)</th>\n",
       "      <th>sh (g/kg)</th>\n",
       "      <th>H2OC (mmol/mol)</th>\n",
       "      <th>rho (g/m**3)</th>\n",
       "      <th>wv (m/s)</th>\n",
       "      <th>max. wv (m/s)</th>\n",
       "      <th>wd (deg)</th>\n",
       "    </tr>\n",
       "    <tr>\n",
       "      <th>Date Time</th>\n",
       "      <th></th>\n",
       "      <th></th>\n",
       "      <th></th>\n",
       "      <th></th>\n",
       "      <th></th>\n",
       "      <th></th>\n",
       "      <th></th>\n",
       "      <th></th>\n",
       "      <th></th>\n",
       "      <th></th>\n",
       "      <th></th>\n",
       "      <th></th>\n",
       "      <th></th>\n",
       "      <th></th>\n",
       "      <th></th>\n",
       "    </tr>\n",
       "  </thead>\n",
       "  <tbody>\n",
       "    <tr>\n",
       "      <th>2009-01-01 00:10:00</th>\n",
       "      <td>01.01.2009 00:10:00</td>\n",
       "      <td>996.52</td>\n",
       "      <td>-8.02</td>\n",
       "      <td>265.40</td>\n",
       "      <td>-8.90</td>\n",
       "      <td>93.3</td>\n",
       "      <td>3.33</td>\n",
       "      <td>3.11</td>\n",
       "      <td>0.22</td>\n",
       "      <td>1.94</td>\n",
       "      <td>3.12</td>\n",
       "      <td>1307.75</td>\n",
       "      <td>1.03</td>\n",
       "      <td>1.75</td>\n",
       "      <td>152.3</td>\n",
       "    </tr>\n",
       "    <tr>\n",
       "      <th>2009-01-01 00:20:00</th>\n",
       "      <td>01.01.2009 00:20:00</td>\n",
       "      <td>996.57</td>\n",
       "      <td>-8.41</td>\n",
       "      <td>265.01</td>\n",
       "      <td>-9.28</td>\n",
       "      <td>93.4</td>\n",
       "      <td>3.23</td>\n",
       "      <td>3.02</td>\n",
       "      <td>0.21</td>\n",
       "      <td>1.89</td>\n",
       "      <td>3.03</td>\n",
       "      <td>1309.80</td>\n",
       "      <td>0.72</td>\n",
       "      <td>1.50</td>\n",
       "      <td>136.1</td>\n",
       "    </tr>\n",
       "  </tbody>\n",
       "</table>\n",
       "</div>"
      ],
      "text/plain": [
       "                               Date Time  p (mbar)  T (degC)  Tpot (K)  \\\n",
       "Date Time                                                                \n",
       "2009-01-01 00:10:00  01.01.2009 00:10:00    996.52     -8.02    265.40   \n",
       "2009-01-01 00:20:00  01.01.2009 00:20:00    996.57     -8.41    265.01   \n",
       "\n",
       "                     Tdew (degC)  rh (%)  VPmax (mbar)  VPact (mbar)  \\\n",
       "Date Time                                                              \n",
       "2009-01-01 00:10:00        -8.90    93.3          3.33          3.11   \n",
       "2009-01-01 00:20:00        -9.28    93.4          3.23          3.02   \n",
       "\n",
       "                     VPdef (mbar)  sh (g/kg)  H2OC (mmol/mol)  rho (g/m**3)  \\\n",
       "Date Time                                                                     \n",
       "2009-01-01 00:10:00          0.22       1.94             3.12       1307.75   \n",
       "2009-01-01 00:20:00          0.21       1.89             3.03       1309.80   \n",
       "\n",
       "                     wv (m/s)  max. wv (m/s)  wd (deg)  \n",
       "Date Time                                               \n",
       "2009-01-01 00:10:00      1.03           1.75     152.3  \n",
       "2009-01-01 00:20:00      0.72           1.50     136.1  "
      ]
     },
     "execution_count": 4,
     "metadata": {},
     "output_type": "execute_result"
    }
   ],
   "source": [
    "# Change index to datetime with our specific format\n",
    "df.index = pd.to_datetime(df['Date Time'], format = '%d.%m.%Y %H:%M:%S')\n",
    "df[:2]"
   ]
  },
  {
   "cell_type": "markdown",
   "id": "0be5e645-19bd-4d45-88fc-41994f7d9f82",
   "metadata": {},
   "source": [
    "_____________________________________________________________________________\n",
    "### We are just going to use degrees in celsius.\n",
    "- #### We are basically going to use the hourly updates to predict tempurature by the hour\n",
    "- #### Then we will predict hours at a time\n",
    "- #### Our data will be similar to a 4D tensor\n",
    "_____________________________________________________________________________"
   ]
  },
  {
   "cell_type": "code",
   "execution_count": 5,
   "id": "ed569cca-3d11-423f-92be-3ab93c988711",
   "metadata": {},
   "outputs": [
    {
     "data": {
      "text/plain": [
       "<AxesSubplot:xlabel='Date Time'>"
      ]
     },
     "execution_count": 5,
     "metadata": {},
     "output_type": "execute_result"
    },
    {
     "data": {
      "image/png": "[encoded data removed]",
      "text/plain": [
       "<Figure size 640x480 with 1 Axes>"
      ]
     },
     "metadata": {},
     "output_type": "display_data"
    }
   ],
   "source": [
    "# Since we are using datetime as our index, we can simply plot the Celsius value to see general temp fluctuationd\n",
    "temp = df[\"T (degC)\"]\n",
    "temp.plot()"
   ]
  },
  {
   "cell_type": "markdown",
   "id": "a3d8f246-54a4-4f8b-a999-51e0bbd55e7c",
   "metadata": {},
   "source": [
    "_____________________________________________________________________________\n",
    "### What we want our tensor to look like\n",
    "- #### How to develop a forecasting problem to a supervised learning problem\n",
    "_____________________________________________________________________________"
   ]
  },
  {
   "cell_type": "code",
   "execution_count": 6,
   "id": "c5b7a801-eaf1-4392-a904-5847f6819d44",
   "metadata": {},
   "outputs": [],
   "source": [
    "#____________________________________________________________________________\n",
    "### Feature Space  (Input)     |  ### Y Hat Vector (Output)\n",
    "# [[[1], [2], [3], [4], [5]]]  |  [6]\n",
    "# [[[2], [3], [4], [5], [6]]]  |  [7]\n",
    "# [[[3], [4], [5], [6], [7]]]  |  [8]\n",
    "### \"Window size \n",
    "### (How many hours are we using)\n",
    "#____________________________________________________________________________"
   ]
  },
  {
   "cell_type": "code",
   "execution_count": 7,
   "id": "fd9c4532-b0c5-4951-b335-04a82a8e2a3a",
   "metadata": {},
   "outputs": [],
   "source": [
    "def df_to_X_y(df, window_size = 5): # we decide the window size\n",
    "    '''Get our tensor to a shape that works for supervised learning'''\n",
    "    \n",
    "    df_as_np = df.to_numpy() # we want a numpy matrix here for Lin Alg\n",
    "    X = [] # we are going to build this up with the rows of temp values by hour\n",
    "    y = [] # we are going to do the smae with the predictions\n",
    "    \n",
    "    for i in range(len(df_as_np) - window_size): # here we subtract window size to \"stay within index\"\n",
    "        \n",
    "        # wrap each of the rows in a list with list comprehension to get to format model accepts\n",
    "        row = [[a] for a in df_as_np[i:i+5]] # Whatever i is, include the next 4, doesn't include the fifth\n",
    "        \n",
    "        # append formatted row to temp list\n",
    "        X.append(row) \n",
    "        \n",
    "        # True value for the input row\n",
    "        label = df_as_np[i + 5] # This is the \"fifth\" temp that we want to predict\n",
    "        y.append(label) # append label to temp list\n",
    "    \n",
    "    # return the tuple of the numpy arrays of the temp lists storing feature and label values\n",
    "    return np.array(X), np.array(y)"
   ]
  },
  {
   "cell_type": "code",
   "execution_count": 8,
   "id": "94b86e55-475b-4025-b52d-46dbad49c55e",
   "metadata": {},
   "outputs": [
    {
     "data": {
      "text/plain": [
       "((420546, 5, 1), (420546,))"
      ]
     },
     "execution_count": 8,
     "metadata": {},
     "output_type": "execute_result"
    }
   ],
   "source": [
    "# Set how many hours of temp we want to use, which is our \"window\"\n",
    "WINDOW_SIZE = 5\n",
    "\n",
    "# Call the function to transform the dataset into the format that our model is going to accpet\n",
    "X, y = df_to_X_y(temp, WINDOW_SIZE)\n",
    "\n",
    "# Check output shape as sanity check\n",
    "X.shape, y.shape"
   ]
  },
  {
   "cell_type": "code",
   "execution_count": 9,
   "id": "c0bf7623-75a2-4687-9540-498a32a008a0",
   "metadata": {},
   "outputs": [
    {
     "data": {
      "text/plain": [
       "array([[[-8.02],\n",
       "        [-8.41],\n",
       "        [-8.51],\n",
       "        [-8.31],\n",
       "        [-8.27]],\n",
       "\n",
       "       [[-8.41],\n",
       "        [-8.51],\n",
       "        [-8.31],\n",
       "        [-8.27],\n",
       "        [-8.05]],\n",
       "\n",
       "       [[-8.51],\n",
       "        [-8.31],\n",
       "        [-8.27],\n",
       "        [-8.05],\n",
       "        [-7.62]],\n",
       "\n",
       "       ...,\n",
       "\n",
       "       [[-4.09],\n",
       "        [-3.76],\n",
       "        [-3.93],\n",
       "        [-4.05],\n",
       "        [-3.35]],\n",
       "\n",
       "       [[-3.76],\n",
       "        [-3.93],\n",
       "        [-4.05],\n",
       "        [-3.35],\n",
       "        [-3.16]],\n",
       "\n",
       "       [[-3.93],\n",
       "        [-4.05],\n",
       "        [-3.35],\n",
       "        [-3.16],\n",
       "        [-4.23]]])"
      ]
     },
     "execution_count": 9,
     "metadata": {},
     "output_type": "execute_result"
    }
   ],
   "source": [
    "# This is basically displaying the same thing as the comments explaining the intended format above\n",
    "# But in a harder to interpret format\n",
    "X"
   ]
  },
  {
   "cell_type": "markdown",
   "id": "b158211c-c9a9-4b9c-b4dc-713a1be47dc4",
   "metadata": {},
   "source": [
    "_____________________________________________________________________________\n",
    "### Train/ Validation/ Test split\n",
    "_____________________________________________________________________________"
   ]
  },
  {
   "cell_type": "code",
   "execution_count": 10,
   "id": "170266bb-c20c-4b10-9222-5d574493d1b8",
   "metadata": {},
   "outputs": [
    {
     "data": {
      "text/plain": [
       "((60000, 5, 1), (60000,), (5000, 5, 1), (5000,), (355546, 5, 1), (355546,))"
      ]
     },
     "execution_count": 10,
     "metadata": {},
     "output_type": "execute_result"
    }
   ],
   "source": [
    "# First 60,000 Datapoints for Train set\n",
    "X_train, y_train = X[:60000], y[:60000]\n",
    "\n",
    "# Next 5,000 Datapoints for Validation set\n",
    "X_val, y_val = X[60000:65000], y[60000:65000]\n",
    "\n",
    "# Give the rest to Test set\n",
    "X_test, y_test = X[65000:], y[65000:]\n",
    "\n",
    "# CHeck the shape as sanity check\n",
    "X_train.shape, y_train.shape, X_val.shape, y_val.shape, X_test.shape, y_test.shape"
   ]
  },
  {
   "cell_type": "markdown",
   "id": "8aeec27b-9fcb-43b5-9a29-693b5a5d1baf",
   "metadata": {},
   "source": [
    "_____________________________________________________________________________\n",
    "### Import nessecary libraries for Time series Forecasting\n",
    "_____________________________________________________________________________"
   ]
  },
  {
   "cell_type": "code",
   "execution_count": 11,
   "id": "70450a7b-344c-4751-b4fc-0a4ab841f500",
   "metadata": {},
   "outputs": [],
   "source": [
    "from tensorflow.keras.models import Sequential # Model initialization and format\n",
    "from tensorflow.keras.layers import * # For setting up architecture\n",
    "from tensorflow.keras.callbacks import ModelCheckpoint # For saving model that does best on val set\n",
    "from tensorflow.keras.losses import MeanSquaredError # MSE works well for our loss function given the problem\n",
    "from tensorflow.keras.metrics import RootMeanSquaredError # For extra evaluation\n",
    "from tensorflow.keras.optimizers import Adam # Optimizer"
   ]
  },
  {
   "cell_type": "markdown",
   "id": "abf38a36-de7b-43fc-a838-234c30d7be83",
   "metadata": {},
   "source": [
    "_____________________________________________________________________________\n",
    "### Initialize model\n",
    "_____________________________________________________________________________"
   ]
  },
  {
   "cell_type": "code",
   "execution_count": 12,
   "id": "192e7ce8-ea02-4a25-81b8-175e11c2a71d",
   "metadata": {},
   "outputs": [
    {
     "name": "stdout",
     "output_type": "stream",
     "text": [
      "Model: \"sequential\"\n",
      "_________________________________________________________________\n",
      " Layer (type)                Output Shape              Param #   \n",
      "=================================================================\n",
      " lstm (LSTM)                 (None, 64)                16896     \n",
      "                                                                 \n",
      " dense (Dense)               (None, 8)                 520       \n",
      "                                                                 \n",
      " dense_1 (Dense)             (None, 1)                 9         \n",
      "                                                                 \n",
      "=================================================================\n",
      "Total params: 17,425\n",
      "Trainable params: 17,425\n",
      "Non-trainable params: 0\n",
      "_________________________________________________________________\n"
     ]
    }
   ],
   "source": [
    "model = Sequential() # Use sequential API\n",
    "model.add(InputLayer((5,1))) # Specifty the shape of the input layer (5 X 1 vectors)\n",
    "model.add(LSTM(64)) # Initialize LSTM layer to pass to the RNN\n",
    "model.add(Dense(8, 'relu')) # Pass that to 8 relu functions\n",
    "model.add(Dense(1, 'linear')) # Since we have a single vector, linear output for our preditctions\n",
    "\n",
    "model.summary()"
   ]
  },
  {
   "cell_type": "markdown",
   "id": "b9f007aa-69fd-417b-9de1-859458cb69be",
   "metadata": {},
   "source": [
    "_____________________________________________________________________________\n",
    "### Specify training callbacks\n",
    "_____________________________________________________________________________"
   ]
  },
  {
   "cell_type": "code",
   "execution_count": 13,
   "id": "c9b9839c-0a8d-4a4b-aee5-8e103ea56a75",
   "metadata": {},
   "outputs": [],
   "source": [
    "cp = ModelCheckpoint('best_model', save_best_only = True) # Only save best model after each epoch"
   ]
  },
  {
   "cell_type": "markdown",
   "id": "639178e9-d377-47b2-9bd8-4fa6a3b1cd68",
   "metadata": {},
   "source": [
    "_____________________________________________________________________________\n",
    "### Compile Model\n",
    "_____________________________________________________________________________"
   ]
  },
  {
   "cell_type": "code",
   "execution_count": 14,
   "id": "06002a51-1c93-4a4f-b305-25a6d89cc276",
   "metadata": {},
   "outputs": [],
   "source": [
    "# Compile model with nessecary paramters\n",
    "model.compile(loss = MeanSquaredError(), optimizer = Adam(learning_rate = 0.01), metrics = [RootMeanSquaredError()])"
   ]
  },
  {
   "cell_type": "markdown",
   "id": "d5e4bb51-12e5-49ea-af68-c1f0c4886a8e",
   "metadata": {},
   "source": [
    "_____________________________________________________________________________\n",
    "### Train Model\n",
    "_____________________________________________________________________________"
   ]
  },
  {
   "cell_type": "code",
   "execution_count": 15,
   "id": "0168b0f4-074a-43a3-9ba3-1ca82ddb498f",
   "metadata": {},
   "outputs": [
    {
     "name": "stdout",
     "output_type": "stream",
     "text": [
      "Epoch 1/10\n",
      "1863/1875 [============================>.] - ETA: 0s - loss: 0.7454 - root_mean_squared_error: 0.8634"
     ]
    },
    {
     "name": "stderr",
     "output_type": "stream",
     "text": [
      "WARNING:absl:Found untraced functions such as _update_step_xla, lstm_cell_layer_call_fn, lstm_cell_layer_call_and_return_conditional_losses while saving (showing 3 of 3). These functions will not be directly callable after loading.\n"
     ]
    },
    {
     "name": "stdout",
     "output_type": "stream",
     "text": [
      "INFO:tensorflow:Assets written to: best_model\\assets\n"
     ]
    },
    {
     "name": "stderr",
     "output_type": "stream",
     "text": [
      "INFO:tensorflow:Assets written to: best_model\\assets\n"
     ]
    },
    {
     "name": "stdout",
     "output_type": "stream",
     "text": [
      "1875/1875 [==============================] - 8s 4ms/step - loss: 0.7410 - root_mean_squared_error: 0.8608 - val_loss: 0.0668 - val_root_mean_squared_error: 0.2584\n",
      "Epoch 2/10\n",
      "1856/1875 [============================>.] - ETA: 0s - loss: 0.0720 - root_mean_squared_error: 0.2683"
     ]
    },
    {
     "name": "stderr",
     "output_type": "stream",
     "text": [
      "WARNING:absl:Found untraced functions such as _update_step_xla, lstm_cell_layer_call_fn, lstm_cell_layer_call_and_return_conditional_losses while saving (showing 3 of 3). These functions will not be directly callable after loading.\n"
     ]
    },
    {
     "name": "stdout",
     "output_type": "stream",
     "text": [
      "INFO:tensorflow:Assets written to: best_model\\assets\n"
     ]
    },
    {
     "name": "stderr",
     "output_type": "stream",
     "text": [
      "INFO:tensorflow:Assets written to: best_model\\assets\n"
     ]
    },
    {
     "name": "stdout",
     "output_type": "stream",
     "text": [
      "1875/1875 [==============================] - 6s 3ms/step - loss: 0.0719 - root_mean_squared_error: 0.2682 - val_loss: 0.0506 - val_root_mean_squared_error: 0.2248\n",
      "Epoch 3/10\n",
      "1875/1875 [==============================] - 4s 2ms/step - loss: 0.0659 - root_mean_squared_error: 0.2567 - val_loss: 0.0561 - val_root_mean_squared_error: 0.2369\n",
      "Epoch 4/10\n",
      "1875/1875 [==============================] - 3s 2ms/step - loss: 0.0648 - root_mean_squared_error: 0.2547 - val_loss: 0.0655 - val_root_mean_squared_error: 0.2560\n",
      "Epoch 5/10\n",
      "1875/1875 [==============================] - 4s 2ms/step - loss: 0.0611 - root_mean_squared_error: 0.2471 - val_loss: 0.0876 - val_root_mean_squared_error: 0.2959\n",
      "Epoch 6/10\n",
      "1862/1875 [============================>.] - ETA: 0s - loss: 0.0585 - root_mean_squared_error: 0.2418"
     ]
    },
    {
     "name": "stderr",
     "output_type": "stream",
     "text": [
      "WARNING:absl:Found untraced functions such as _update_step_xla, lstm_cell_layer_call_fn, lstm_cell_layer_call_and_return_conditional_losses while saving (showing 3 of 3). These functions will not be directly callable after loading.\n"
     ]
    },
    {
     "name": "stdout",
     "output_type": "stream",
     "text": [
      "INFO:tensorflow:Assets written to: best_model\\assets\n"
     ]
    },
    {
     "name": "stderr",
     "output_type": "stream",
     "text": [
      "INFO:tensorflow:Assets written to: best_model\\assets\n"
     ]
    },
    {
     "name": "stdout",
     "output_type": "stream",
     "text": [
      "1875/1875 [==============================] - 6s 3ms/step - loss: 0.0583 - root_mean_squared_error: 0.2415 - val_loss: 0.0457 - val_root_mean_squared_error: 0.2138\n",
      "Epoch 7/10\n",
      "1875/1875 [==============================] - 4s 2ms/step - loss: 0.0579 - root_mean_squared_error: 0.2405 - val_loss: 0.0473 - val_root_mean_squared_error: 0.2175\n",
      "Epoch 8/10\n",
      "1853/1875 [============================>.] - ETA: 0s - loss: 0.0574 - root_mean_squared_error: 0.2395"
     ]
    },
    {
     "name": "stderr",
     "output_type": "stream",
     "text": [
      "WARNING:absl:Found untraced functions such as _update_step_xla, lstm_cell_layer_call_fn, lstm_cell_layer_call_and_return_conditional_losses while saving (showing 3 of 3). These functions will not be directly callable after loading.\n"
     ]
    },
    {
     "name": "stdout",
     "output_type": "stream",
     "text": [
      "INFO:tensorflow:Assets written to: best_model\\assets\n"
     ]
    },
    {
     "name": "stderr",
     "output_type": "stream",
     "text": [
      "INFO:tensorflow:Assets written to: best_model\\assets\n"
     ]
    },
    {
     "name": "stdout",
     "output_type": "stream",
     "text": [
      "1875/1875 [==============================] - 6s 3ms/step - loss: 0.0572 - root_mean_squared_error: 0.2392 - val_loss: 0.0451 - val_root_mean_squared_error: 0.2123\n",
      "Epoch 9/10\n",
      "1875/1875 [==============================] - 3s 2ms/step - loss: 0.0532 - root_mean_squared_error: 0.2307 - val_loss: 0.0484 - val_root_mean_squared_error: 0.2200\n",
      "Epoch 10/10\n",
      "1875/1875 [==============================] - 4s 2ms/step - loss: 0.0555 - root_mean_squared_error: 0.2355 - val_loss: 0.0474 - val_root_mean_squared_error: 0.2178\n"
     ]
    },
    {
     "data": {
      "text/plain": [
       "<keras.callbacks.History at 0x20504633c10>"
      ]
     },
     "execution_count": 15,
     "metadata": {},
     "output_type": "execute_result"
    }
   ],
   "source": [
    "# provide train, val, and test data to train statement.\n",
    "model.fit(X_train, y_train, validation_data = (X_val, y_val), epochs = 10, callbacks = cp)"
   ]
  },
  {
   "cell_type": "markdown",
   "id": "ceab06ca-3250-400c-9f3d-4406af348fdb",
   "metadata": {},
   "source": [
    "_____________________________________________________________________________\n",
    "#### Performance getting better until the last epoch, with great performance for out-of-the-box solution to predicting tempuratures in a time-series using an LSTM\n",
    "_____________________________________________________________________________"
   ]
  },
  {
   "cell_type": "markdown",
   "id": "ef68f0fc-2108-40b8-be53-a89d884e74c0",
   "metadata": {},
   "source": [
    "_____________________________________________________________________________\n",
    "### Load best model and run a test with it\n",
    "_____________________________________________________________________________"
   ]
  },
  {
   "cell_type": "code",
   "execution_count": 16,
   "id": "aef48c57-3915-4117-8357-ada5f16b079e",
   "metadata": {},
   "outputs": [],
   "source": [
    "from tensorflow.keras.models import load_model\n",
    "model_best = load_model('best_model')"
   ]
  },
  {
   "cell_type": "markdown",
   "id": "88cf38ca-9cd5-4ed7-ab95-2685971fd926",
   "metadata": {},
   "source": [
    "_____________________________________________________________________________\n",
    " Make train test and validation, and run model again to show where the actual predictions are\n",
    "_____________________________________________________________________________"
   ]
  },
  {
   "cell_type": "code",
   "execution_count": 17,
   "id": "5791a58d-3786-470b-8d32-8f4b900a8875",
   "metadata": {},
   "outputs": [
    {
     "name": "stdout",
     "output_type": "stream",
     "text": [
      "1875/1875 [==============================] - 2s 987us/step\n"
     ]
    },
    {
     "data": {
      "text/html": [
       "<div>\n",
       "<style scoped>\n",
       "    .dataframe tbody tr th:only-of-type {\n",
       "        vertical-align: middle;\n",
       "    }\n",
       "\n",
       "    .dataframe tbody tr th {\n",
       "        vertical-align: top;\n",
       "    }\n",
       "\n",
       "    .dataframe thead th {\n",
       "        text-align: right;\n",
       "    }\n",
       "</style>\n",
       "<table border=\"1\" class=\"dataframe\">\n",
       "  <thead>\n",
       "    <tr style=\"text-align: right;\">\n",
       "      <th></th>\n",
       "      <th>Train Predictions</th>\n",
       "      <th>Actuals</th>\n",
       "    </tr>\n",
       "  </thead>\n",
       "  <tbody>\n",
       "    <tr>\n",
       "      <th>0</th>\n",
       "      <td>-8.244583</td>\n",
       "      <td>-8.05</td>\n",
       "    </tr>\n",
       "    <tr>\n",
       "      <th>1</th>\n",
       "      <td>-7.900054</td>\n",
       "      <td>-7.62</td>\n",
       "    </tr>\n",
       "    <tr>\n",
       "      <th>2</th>\n",
       "      <td>-7.385185</td>\n",
       "      <td>-7.62</td>\n",
       "    </tr>\n",
       "    <tr>\n",
       "      <th>3</th>\n",
       "      <td>-7.578332</td>\n",
       "      <td>-7.91</td>\n",
       "    </tr>\n",
       "    <tr>\n",
       "      <th>4</th>\n",
       "      <td>-7.978569</td>\n",
       "      <td>-8.43</td>\n",
       "    </tr>\n",
       "    <tr>\n",
       "      <th>...</th>\n",
       "      <td>...</td>\n",
       "      <td>...</td>\n",
       "    </tr>\n",
       "    <tr>\n",
       "      <th>59995</th>\n",
       "      <td>1.638692</td>\n",
       "      <td>1.82</td>\n",
       "    </tr>\n",
       "    <tr>\n",
       "      <th>59996</th>\n",
       "      <td>1.804174</td>\n",
       "      <td>1.88</td>\n",
       "    </tr>\n",
       "    <tr>\n",
       "      <th>59997</th>\n",
       "      <td>1.863881</td>\n",
       "      <td>1.74</td>\n",
       "    </tr>\n",
       "    <tr>\n",
       "      <th>59998</th>\n",
       "      <td>1.557280</td>\n",
       "      <td>1.64</td>\n",
       "    </tr>\n",
       "    <tr>\n",
       "      <th>59999</th>\n",
       "      <td>1.542646</td>\n",
       "      <td>1.60</td>\n",
       "    </tr>\n",
       "  </tbody>\n",
       "</table>\n",
       "<p>60000 rows × 2 columns</p>\n",
       "</div>"
      ],
      "text/plain": [
       "       Train Predictions  Actuals\n",
       "0              -8.244583    -8.05\n",
       "1              -7.900054    -7.62\n",
       "2              -7.385185    -7.62\n",
       "3              -7.578332    -7.91\n",
       "4              -7.978569    -8.43\n",
       "...                  ...      ...\n",
       "59995           1.638692     1.82\n",
       "59996           1.804174     1.88\n",
       "59997           1.863881     1.74\n",
       "59998           1.557280     1.64\n",
       "59999           1.542646     1.60\n",
       "\n",
       "[60000 rows x 2 columns]"
      ]
     },
     "execution_count": 17,
     "metadata": {},
     "output_type": "execute_result"
    }
   ],
   "source": [
    "# Make predictions\n",
    "train_predictions = model_best.predict(X_train).flatten() # Without flatten, its that same double bracketed list\n",
    "\n",
    "# Return results of best model as Dataframe\n",
    "train_results = pd.DataFrame(data = {\"Train Predictions\": train_predictions, 'Actuals': y_train})\n",
    "train_results"
   ]
  },
  {
   "cell_type": "code",
   "execution_count": 18,
   "id": "94f906f6-9131-4913-bbee-1f445d235f83",
   "metadata": {},
   "outputs": [
    {
     "name": "stdout",
     "output_type": "stream",
     "text": [
      "RMSE: 0.2047765552997589\n"
     ]
    }
   ],
   "source": [
    "# Calculate and display RMSE for best model\n",
    "mse_loss = tf.keras.losses.MeanSquaredError()\n",
    "mse_score = mse_loss(y_train, train_predictions) # MSE scores\n",
    "rmse_score = tf.sqrt(mse_score) # RMSE Scores\n",
    "print(f\"RMSE: {rmse_score}\")"
   ]
  },
  {
   "cell_type": "markdown",
   "id": "beae4b96-3afd-4266-9d3e-22e526d7760d",
   "metadata": {},
   "source": [
    "_____________________________________________________________________________\n",
    "### Visualize the RMSE of the best performing model\n",
    "_____________________________________________________________________________"
   ]
  },
  {
   "cell_type": "code",
   "execution_count": 22,
   "id": "8516fce8-d8b4-4f02-aa58-947aad52fb1c",
   "metadata": {},
   "outputs": [
    {
     "data": {
      "text/plain": [
       "[<matplotlib.lines.Line2D at 0x20526538640>]"
      ]
     },
     "execution_count": 22,
     "metadata": {},
     "output_type": "execute_result"
    },
    {
     "data": {
      "image/png": "[encoded data removed]",
      "text/plain": [
       "<Figure size 640x480 with 1 Axes>"
      ]
     },
     "metadata": {},
     "output_type": "display_data"
    }
   ],
   "source": [
    "import matplotlib.pyplot as plt\n",
    "\n",
    "# Visualize the RMSE for the first 25 examples from the test set\n",
    "plt.plot(train_results[\"Train Predictions\"][:25])\n",
    "plt.plot(train_results[\"Actuals\"][:25])"
   ]
  },
  {
   "cell_type": "markdown",
   "id": "eba2d50b-9591-4810-9607-ea47bdfbd57a",
   "metadata": {},
   "source": [
    "_____________________________________________________________________________\n",
    "We can see that the model is doing fairly well, with a RMSE of .204 for our best performer. With some tweaks, we could easily implement some kind of LSTM like this in the REU I will be engaged in over the summer.\n",
    "_____________________________________________________________________________"
   ]
  },
  {
   "cell_type": "markdown",
   "id": "23b0b057-8fa0-42c8-8d0d-79640deb4caf",
   "metadata": {},
   "source": [
    "_____________________________________________________________________________\n",
    "## Overall, this was a really great learning experience to get some hands-on with LSTM's. I am still a bit shakey on the mathematics going on under the hood of the model, but seeing how the input tensor needs to be shaped, and generally how to use an LSTM for temperature predcictions in a time-series, is going to be great experience for my summer research position\n",
    "_____________________________________________________________________________"
   ]
  },
  {
   "cell_type": "code",
   "execution_count": null,
   "id": "188f87d5-78fd-46d7-ac3c-70c989317562",
   "metadata": {},
   "outputs": [],
   "source": []
  }
 ],
 "metadata": {
  "kernelspec": {
   "display_name": "Python 3 (ipykernel)",
   "language": "python",
   "name": "python3"
  },
  "language_info": {
   "codemirror_mode": {
    "name": "ipython",
    "version": 3
   },
   "file_extension": ".py",
   "mimetype": "text/x-python",
   "name": "python",
   "nbconvert_exporter": "python",
   "pygments_lexer": "ipython3",
   "version": "3.9.13"
  }
 },
 "nbformat": 4,
 "nbformat_minor": 5
}
